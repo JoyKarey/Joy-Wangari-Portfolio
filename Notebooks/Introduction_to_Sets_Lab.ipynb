{
  "cells": [
    {
      "cell_type": "markdown",
      "metadata": {
        "id": "mew5P_cajy2r"
      },
      "source": [
        "# Introduction to Sets - Lab\n",
        "\n",
        "## Introduction\n",
        "\n",
        "Probability theory is all around. A common example is in the game of poker or related card games, where players try to calculate the probability of winning a round given the cards they have in their hands. Also, in a business context, probabilities play an important role. Operating in a volatile economy, companies need to take uncertainty into account and this is exactly where probability theory plays a role.\n",
        "\n",
        "As mentioned in the lesson before, a good understanding of probability starts with understanding of sets and set operations. That's exactly what you'll learn in this lab!\n",
        "\n",
        "## Objectives\n",
        "\n",
        "You will be able to:\n",
        "\n",
        "* Use Python to perform set operations\n",
        "* Use Python to demonstrate the inclusion/exclusion principle\n",
        "\n",
        "\n",
        "## Exploring Set Operations Using a Venn Diagram\n",
        "\n",
        "Let's start with a pretty conceptual example. Let's consider the following sets:\n",
        "\n",
        "   - $\\Omega$ = positive integers between [1, 12]\n",
        "   - $A$= even numbers between [1, 10]\n",
        "   - $B = \\{3,8,11,12\\}$\n",
        "   - $C = \\{2,3,6,8,9,11\\}$\n",
        "    \n",
        "\n",
        "#### a. Illustrate all the sets in a Venn Diagram like the one below. The rectangular shape represents the universal set.\n",
        "\n",
        "<img src=\"./images/venn_diagr.png\" width=\"600\">\n"
      ]
    },
    {
      "cell_type": "markdown",
      "metadata": {
        "id": "SY_RtUi6jy2w"
      },
      "source": [
        "#### b. Using your Venn Diagram, list the elements in each of the following sets:\n",
        "\n",
        "Do this work by hand (writing in the values of each set), then you will check your answers using Python code later!\n",
        "\n",
        "For example, if the question was just asking for the values of $B$, you would replace `None` with `{3, 8, 11, 12}` typed out.\n",
        "\n",
        "$ A \\cap B$"
      ]
    },
    {
      "cell_type": "code",
      "execution_count": null,
      "metadata": {
        "id": "6Xua6a9Ojy2x",
        "outputId": "4930329a-3d99-4230-e401-9896c81ad746"
      },
      "outputs": [
        {
          "data": {
            "text/plain": [
              "{8}"
            ]
          },
          "execution_count": 1,
          "metadata": {},
          "output_type": "execute_result"
        }
      ],
      "source": [
        "ans1 ={8}\n",
        "ans1"
      ]
    },
    {
      "cell_type": "markdown",
      "metadata": {
        "id": "UUJz5VgWjy2z"
      },
      "source": [
        "$ A \\cup C$"
      ]
    },
    {
      "cell_type": "code",
      "execution_count": null,
      "metadata": {
        "id": "5NGnBA_Ajy2z",
        "outputId": "cb6c6622-23f7-41bd-dba6-f6a54c3f7d68"
      },
      "outputs": [
        {
          "data": {
            "text/plain": [
              "{2, 3, 4, 6, 8, 9, 10, 11}"
            ]
          },
          "execution_count": 2,
          "metadata": {},
          "output_type": "execute_result"
        }
      ],
      "source": [
        "ans2 = {2,3,4,6,8,9,10,11}\n",
        "ans2"
      ]
    },
    {
      "cell_type": "markdown",
      "metadata": {
        "id": "_GNrVWucjy20"
      },
      "source": [
        "$A^c$"
      ]
    },
    {
      "cell_type": "code",
      "execution_count": null,
      "metadata": {
        "id": "qDFM7xSsjy20",
        "outputId": "65a5b4e7-b346-4787-8057-0fde7c125b42"
      },
      "outputs": [
        {
          "data": {
            "text/plain": [
              "{1, 3, 5, 7, 9, 11, 12}"
            ]
          },
          "execution_count": 3,
          "metadata": {},
          "output_type": "execute_result"
        }
      ],
      "source": [
        "ans3 = {1,3,5,7,9,11,12}\n",
        "ans3"
      ]
    },
    {
      "cell_type": "markdown",
      "metadata": {
        "id": "YSvBnGCbjy20"
      },
      "source": [
        "The absolute complement of B"
      ]
    },
    {
      "cell_type": "code",
      "execution_count": null,
      "metadata": {
        "id": "vsMa5Th6jy21",
        "outputId": "33657b52-ba2c-4477-9be9-dbeb1ecf0be9"
      },
      "outputs": [
        {
          "data": {
            "text/plain": [
              "{1, 2, 4, 5, 6, 7, 9, 10}"
            ]
          },
          "execution_count": 4,
          "metadata": {},
          "output_type": "execute_result"
        }
      ],
      "source": [
        "ans4 = {1,2,4,5,6,7,9,10}\n",
        "ans4"
      ]
    },
    {
      "cell_type": "markdown",
      "metadata": {
        "id": "uE01PP0bjy21"
      },
      "source": [
        "$(A \\cup B)^c$"
      ]
    },
    {
      "cell_type": "code",
      "execution_count": null,
      "metadata": {
        "id": "MAX_sjD_jy22",
        "outputId": "281ed187-8c4d-43ce-bf1a-d22b1a817c42"
      },
      "outputs": [
        {
          "data": {
            "text/plain": [
              "{1, 5, 7, 9}"
            ]
          },
          "execution_count": 5,
          "metadata": {},
          "output_type": "execute_result"
        }
      ],
      "source": [
        "ans5 = {1,5,7,9}\n",
        "ans5"
      ]
    },
    {
      "cell_type": "markdown",
      "metadata": {
        "id": "0wEuLvwVjy24"
      },
      "source": [
        "$B \\cap C'$"
      ]
    },
    {
      "cell_type": "code",
      "execution_count": null,
      "metadata": {
        "id": "ejE8QXhVjy25",
        "outputId": "3e2d9b52-6f8f-4ece-ab2f-77accc9c380b"
      },
      "outputs": [
        {
          "data": {
            "text/plain": [
              "{1, 2, 4, 5, 6, 7, 9, 10, 12}"
            ]
          },
          "execution_count": 23,
          "metadata": {},
          "output_type": "execute_result"
        }
      ],
      "source": [
        "ans6 = {1,2,4,5,6,7,9,10,12}\n",
        "ans6"
      ]
    },
    {
      "cell_type": "markdown",
      "metadata": {
        "id": "knGN1dgTjy25"
      },
      "source": [
        "$A\\backslash B$"
      ]
    },
    {
      "cell_type": "code",
      "execution_count": null,
      "metadata": {
        "id": "Q0_bJQa5jy26",
        "outputId": "723f4725-d4e6-4a23-a2d1-342b1ad0e5cb"
      },
      "outputs": [
        {
          "data": {
            "text/plain": [
              "{2, 4, 6, 10}"
            ]
          },
          "execution_count": 8,
          "metadata": {},
          "output_type": "execute_result"
        }
      ],
      "source": [
        "ans7 = {2,4,6,10}\n",
        "ans7"
      ]
    },
    {
      "cell_type": "markdown",
      "metadata": {
        "id": "TRi_ZzZ1jy26"
      },
      "source": [
        "$C \\backslash (B \\backslash A)$ "
      ]
    },
    {
      "cell_type": "code",
      "execution_count": null,
      "metadata": {
        "id": "8htBFJc_jy26",
        "outputId": "69d3272d-6274-4430-8443-f22ab061d9a5"
      },
      "outputs": [
        {
          "data": {
            "text/plain": [
              "{2, 6, 8, 9}"
            ]
          },
          "execution_count": 9,
          "metadata": {},
          "output_type": "execute_result"
        }
      ],
      "source": [
        "ans8 = {2,6,8,9}\n",
        "ans8"
      ]
    },
    {
      "cell_type": "markdown",
      "metadata": {
        "id": "W9LzwHaPjy27"
      },
      "source": [
        "$(C \\cap A) \\cup (C \\backslash B)$"
      ]
    },
    {
      "cell_type": "code",
      "execution_count": null,
      "metadata": {
        "id": "Du-GXr0yjy27",
        "outputId": "8b71f01b-0d18-42d3-e460-15b0286e8922"
      },
      "outputs": [
        {
          "data": {
            "text/plain": [
              "{2, 6, 8, 9}"
            ]
          },
          "execution_count": 10,
          "metadata": {},
          "output_type": "execute_result"
        }
      ],
      "source": [
        "ans9 = {2,6,8,9}\n",
        "ans9"
      ]
    },
    {
      "cell_type": "markdown",
      "metadata": {
        "id": "VmXIsftNjy27"
      },
      "source": [
        "\n",
        "        \n",
        "        \n",
        "#### c. For the remainder of this exercise, let's  create sets A, B and C and universal set U in Python and test out the results you came up with. Sets are easy to create in Python. For a guide to the syntax, follow some of the documentation [here](https://www.w3schools.com/python/python_sets.asp)"
      ]
    },
    {
      "cell_type": "code",
      "execution_count": null,
      "metadata": {
        "id": "no3b_4vPjy27",
        "outputId": "0a7bfdc6-664a-4b4a-bccb-dd33c48e0980"
      },
      "outputs": [
        {
          "data": {
            "text/plain": [
              "\"Type A: <class 'set'>, A: {2, 4, 6, 8, 10}\""
            ]
          },
          "execution_count": 11,
          "metadata": {},
          "output_type": "execute_result"
        }
      ],
      "source": [
        "# Create set A\n",
        "A = {2,4,6,8,10}\n",
        "f'Type A: {type(A)}, A: {A}' # \"Type A: <class 'set'>, A: {2, 4, 6, 8, 10}\""
      ]
    },
    {
      "cell_type": "code",
      "execution_count": null,
      "metadata": {
        "id": "jRXMzGIdjy28",
        "outputId": "7263fba3-e4fa-446b-da94-263e296643e0"
      },
      "outputs": [
        {
          "data": {
            "text/plain": [
              "\"Type B: <class 'set'>, A: {8, 3, 11, 12}\""
            ]
          },
          "execution_count": 12,
          "metadata": {},
          "output_type": "execute_result"
        }
      ],
      "source": [
        "# Create set B\n",
        "B = {3,8,11,12}\n",
        "f'Type B: {type(B)}, A: {B}' # \"Type B: <class 'set'>, B: {8, 11, 3, 12}\""
      ]
    },
    {
      "cell_type": "code",
      "execution_count": null,
      "metadata": {
        "id": "pyggAIQUjy28",
        "outputId": "c5cb0365-a040-4665-837f-7ce54d15b04b"
      },
      "outputs": [
        {
          "data": {
            "text/plain": [
              "\"Type C: <class 'set'>, A: {2, 3, 6, 8, 9, 11}\""
            ]
          },
          "execution_count": 13,
          "metadata": {},
          "output_type": "execute_result"
        }
      ],
      "source": [
        "# Create set C\n",
        "C = {2,3,6,8,9,11}\n",
        "f'Type C: {type(C)}, A: {C}' # \"Type C: <class 'set'>, C: {2, 3, 6, 8, 9, 11}\""
      ]
    },
    {
      "cell_type": "code",
      "execution_count": null,
      "metadata": {
        "id": "1QUFH52pjy28",
        "outputId": "45b11e1a-4945-49a9-f632-dcaabf3da753"
      },
      "outputs": [
        {
          "data": {
            "text/plain": [
              "\"Type U: <class 'set'>, A: {1, 2, 3, 4, 5, 6, 7, 8, 9, 10, 11, 12}\""
            ]
          },
          "execution_count": 14,
          "metadata": {},
          "output_type": "execute_result"
        }
      ],
      "source": [
        "# Create universal set U\n",
        "U = {1, 2, 3, 4, 5, 6, 7, 8, 9, 10, 11, 12}\n",
        "f'Type U: {type(U)}, A: {U}' # \"Type U: <class 'set'>, U: {1, 2, 3, 4, 5, 6, 7, 8, 9, 10, 11, 12}\""
      ]
    },
    {
      "cell_type": "markdown",
      "metadata": {
        "id": "dpJXRq9Hjy29"
      },
      "source": [
        "Now, verify your answers in section 1 by using the correct methods in Python. For example, if the question was just asking for the values of $B$, you would replace `None` with `B`.\n",
        "\n",
        "To provide a little bit of help, you can find a table with common operations on sets below.\n",
        "\n",
        "| Method        |\tEquivalent |\tResult |\n",
        "| ------                    | ------       | ------    |\n",
        "| s.issubset(t)             |\ts <= t     | test whether every element in s is in t\n",
        "| s.issuperset(t)           |\ts >= t     | test whether every element in t is in s\n",
        "| s.union(t)                |\ts $\\mid$ t | new set with elements from both s and t\n",
        "| s.intersection(t)         |\ts & t      | new set with elements common to s and t\n",
        "| s.difference(t)           |\ts - t \t   | new set with elements in s but not in t\n",
        "| s.symmetric_difference(t) |\ts ^ t      | new set with elements in either s or t but not both\n",
        "\n",
        "Every cell should display `True` if your original answer matches the answer you calculated with Python. If it displays `False`, that means either your original answer or your Python code is incorrect."
      ]
    },
    {
      "cell_type": "markdown",
      "metadata": {
        "id": "aXmRaC-2jy29"
      },
      "source": [
        "#### 1. $ A \\cap B$"
      ]
    },
    {
      "cell_type": "code",
      "execution_count": null,
      "metadata": {
        "id": "5hlZ09Tljy29",
        "outputId": "da5ecdba-8a4a-4482-e7fe-c34355782cf0"
      },
      "outputs": [
        {
          "data": {
            "text/plain": [
              "True"
            ]
          },
          "execution_count": 15,
          "metadata": {},
          "output_type": "execute_result"
        }
      ],
      "source": [
        "A_inters_B = A.intersection(B)\n",
        "A_inters_B == ans1"
      ]
    },
    {
      "cell_type": "markdown",
      "metadata": {
        "id": "CRjOac4Pjy29"
      },
      "source": [
        "#### 2. $ A \\cup C $"
      ]
    },
    {
      "cell_type": "code",
      "execution_count": null,
      "metadata": {
        "id": "AVDgJ7GHjy29",
        "outputId": "d9cfaf19-0adf-4196-8e66-ff643bf96ef4"
      },
      "outputs": [
        {
          "data": {
            "text/plain": [
              "True"
            ]
          },
          "execution_count": 16,
          "metadata": {},
          "output_type": "execute_result"
        }
      ],
      "source": [
        "A_union_C = A.union(C)\n",
        "A_union_C == ans2"
      ]
    },
    {
      "cell_type": "markdown",
      "metadata": {
        "id": "1Q6OIIZEjy2-"
      },
      "source": [
        "#### 3.  $A^c$"
      ]
    },
    {
      "cell_type": "code",
      "execution_count": null,
      "metadata": {
        "id": "PGWmSV79jy2-",
        "outputId": "ebd01b1e-49be-4d6e-ec80-fca903e5ae3a"
      },
      "outputs": [
        {
          "data": {
            "text/plain": [
              "True"
            ]
          },
          "execution_count": 17,
          "metadata": {},
          "output_type": "execute_result"
        }
      ],
      "source": [
        "A_comp = U.difference(A)\n",
        "A_comp == ans3"
      ]
    },
    {
      "cell_type": "markdown",
      "metadata": {
        "id": "fgKhP8Ezjy2-"
      },
      "source": [
        "#### 4. The absolute complement of B"
      ]
    },
    {
      "cell_type": "code",
      "execution_count": null,
      "metadata": {
        "id": "xeKcTX9fjy2-",
        "outputId": "fa97630a-17c3-4b66-ed52-5f1ef3d990cc"
      },
      "outputs": [
        {
          "data": {
            "text/plain": [
              "True"
            ]
          },
          "execution_count": 18,
          "metadata": {},
          "output_type": "execute_result"
        }
      ],
      "source": [
        "B_comp = U.difference(B)\n",
        "B_comp == ans4"
      ]
    },
    {
      "cell_type": "markdown",
      "metadata": {
        "id": "h1P2p4q9jy2-"
      },
      "source": [
        "#### 5.  $(A \\cup B)^c $"
      ]
    },
    {
      "cell_type": "code",
      "execution_count": null,
      "metadata": {
        "id": "A_NtS6Ymjy2_",
        "outputId": "2d7c3daf-533e-4cc9-9ad4-0c7f953c9edb"
      },
      "outputs": [
        {
          "data": {
            "text/plain": [
              "True"
            ]
          },
          "execution_count": 21,
          "metadata": {},
          "output_type": "execute_result"
        }
      ],
      "source": [
        "A_union_B_comp = U.difference(A.union(B))\n",
        "A_union_B_comp == ans5"
      ]
    },
    {
      "cell_type": "markdown",
      "metadata": {
        "id": "_8Ugw_9ljy2_"
      },
      "source": [
        "#### 6. $B \\cap C' $"
      ]
    },
    {
      "cell_type": "code",
      "execution_count": null,
      "metadata": {
        "id": "2eOMPrYNjy2_",
        "outputId": "9ac25912-8f78-4fb2-894a-9aed82b8d6ac"
      },
      "outputs": [
        {
          "data": {
            "text/plain": [
              "True"
            ]
          },
          "execution_count": 24,
          "metadata": {},
          "output_type": "execute_result"
        }
      ],
      "source": [
        "B_inters_C_comp = U.difference(B.intersection(C))\n",
        "B_inters_C_comp == ans6"
      ]
    },
    {
      "cell_type": "markdown",
      "metadata": {
        "id": "HYo8gprijy2_"
      },
      "source": [
        "#### 7. $A\\backslash B$"
      ]
    },
    {
      "cell_type": "code",
      "execution_count": null,
      "metadata": {
        "id": "yMtNlJ8bjy2_",
        "outputId": "6d03ed09-1ffb-47ed-e4a2-fe3c55652ba1"
      },
      "outputs": [
        {
          "data": {
            "text/plain": [
              "True"
            ]
          },
          "execution_count": 25,
          "metadata": {},
          "output_type": "execute_result"
        }
      ],
      "source": [
        "compl_of_B = A.difference(B)\n",
        "compl_of_B == ans7"
      ]
    },
    {
      "cell_type": "markdown",
      "metadata": {
        "id": "ZNli1MEqjy3A"
      },
      "source": [
        "#### 8. $C \\backslash (B \\backslash A) $"
      ]
    },
    {
      "cell_type": "code",
      "execution_count": null,
      "metadata": {
        "id": "ycZj5k64jy3A",
        "outputId": "45aef82a-7cb9-481c-ee79-0b20d9afd429"
      },
      "outputs": [
        {
          "data": {
            "text/plain": [
              "True"
            ]
          },
          "execution_count": 26,
          "metadata": {},
          "output_type": "execute_result"
        }
      ],
      "source": [
        "C_compl_B_compl_A = C.difference(B.difference(A))\n",
        "C_compl_B_compl_A == ans8"
      ]
    },
    {
      "cell_type": "markdown",
      "metadata": {
        "id": "y5ffUxuBjy3B"
      },
      "source": [
        "#### 9.  $(C \\cap A) \\cup (C \\backslash B)$"
      ]
    },
    {
      "cell_type": "code",
      "execution_count": null,
      "metadata": {
        "id": "e_TjwvBwjy3B",
        "outputId": "4b7271a5-4292-4984-bbee-0316d47fe9f3"
      },
      "outputs": [
        {
          "data": {
            "text/plain": [
              "True"
            ]
          },
          "execution_count": 29,
          "metadata": {},
          "output_type": "execute_result"
        }
      ],
      "source": [
        "C_inters_A_union_C_min_B = C.intersection(A).union(C.difference(B))\n",
        "C_inters_A_union_C_min_B == ans9"
      ]
    },
    {
      "cell_type": "markdown",
      "metadata": {
        "id": "G2N3EKtCjy3B"
      },
      "source": [
        "## The Inclusion Exclusion Principle"
      ]
    },
    {
      "cell_type": "markdown",
      "metadata": {
        "id": "Km5kdN2Ujy3B"
      },
      "source": [
        "Use A, B and C from exercise one to verify the inclusion exclusion principle in Python. \n",
        "You can use the sets A, B and C as used in the previous exercise. \n",
        "\n",
        "Recall from the previous lesson that:\n",
        "\n",
        "$$\\mid A \\cup B\\cup C\\mid = \\mid A \\mid + \\mid B \\mid + \\mid C \\mid - \\mid A \\cap B \\mid  -\\mid A \\cap C \\mid - \\mid B \\cap C \\mid  + \\mid A \\cap B \\cap C \\mid $$\n",
        "\n",
        "Combining these main commands:\n",
        "\n",
        "| Method        |\tEquivalent |\tResult |\n",
        "| ------                    | ------       | ------    |\n",
        "| a.union(b)                |\tA $\\mid$ B | new set with elements from both a and b\n",
        "| a.intersection(b)         |\tA & B      | new set with elements common to a and b\n",
        "\n",
        "along with the `len(x)` function to get to the cardinality of a given x (\"|x|\").\n",
        "\n",
        "What you'll do is translate the left hand side of the equation for the inclusion principle in the object `left_hand_eq`, and the right hand side in the object `right_hand_eq` and see if the results are the same.\n"
      ]
    },
    {
      "cell_type": "code",
      "execution_count": null,
      "metadata": {
        "id": "HBlhagaXjy3B",
        "outputId": "8e418d70-091d-40e7-c126-b134df33d24e"
      },
      "outputs": [
        {
          "name": "stdout",
          "output_type": "stream",
          "text": [
            "9\n"
          ]
        }
      ],
      "source": [
        "left_hand_eq = len( A | B | C)\n",
        "print(left_hand_eq)  # 9 elements in the set"
      ]
    },
    {
      "cell_type": "code",
      "execution_count": null,
      "metadata": {
        "id": "rRoY0kFJjy3C",
        "outputId": "349d5b9c-c378-4420-b096-19e5f9b3e495"
      },
      "outputs": [
        {
          "name": "stdout",
          "output_type": "stream",
          "text": [
            "9\n"
          ]
        }
      ],
      "source": [
        "right_hand_eq = len(A) + len (B) + len (C) - len ( A & B) - len ( A & C) - len ( B & C) + len ( A & B & C)\n",
        "print(right_hand_eq) # 9 elements in the set"
      ]
    },
    {
      "cell_type": "code",
      "execution_count": null,
      "metadata": {
        "id": "3F7pBfwijy3C",
        "outputId": "4228efdf-8321-4ea1-95b3-7736ee2b1601"
      },
      "outputs": [
        {
          "data": {
            "text/plain": [
              "True"
            ]
          },
          "execution_count": 32,
          "metadata": {},
          "output_type": "execute_result"
        }
      ],
      "source": [
        "left_hand_eq == right_hand_eq # Use a comparison operator to compare `left_hand_eq` and `right_hand_eq`. Needs to say \"True\"."
      ]
    },
    {
      "cell_type": "markdown",
      "metadata": {
        "id": "GoQZIC1ejy3C"
      },
      "source": [
        "## Set Operations in Python\n",
        "\n",
        "Mary is preparing for a road trip from her hometown, Boston, to Chicago. She has quite a few pets, yet luckily, so do her friends. They try to make sure that they take care of each other's pets while someone is away on a trip. A month ago, each respective person's pet collection was given by the following three sets:"
      ]
    },
    {
      "cell_type": "code",
      "execution_count": null,
      "metadata": {
        "id": "Y3UuQc7ojy3C"
      },
      "outputs": [],
      "source": [
        "Nina = set([\"Cat\",\"Dog\",\"Rabbit\",\"Donkey\",\"Parrot\", \"Goldfish\"])\n",
        "Mary = set([\"Dog\",\"Chinchilla\",\"Horse\", \"Chicken\"])\n",
        "Eve = set([\"Rabbit\", \"Turtle\", \"Goldfish\"])"
      ]
    },
    {
      "cell_type": "markdown",
      "metadata": {
        "id": "DdM1uXI7jy3D"
      },
      "source": [
        "In this exercise, you'll be able to use the following operations:\n",
        "\n",
        "|Operation                          |\tEquivalent |\tResult|\n",
        "| ------                            | ------       | ------   |\n",
        "|s.update(t)                        | \t$s \\mid= t$ \t   |return set s with elements added from t|\n",
        "|s.intersection_update(t)           | \ts &= t     |\treturn set s keeping only elements also found in t|\n",
        "|s.difference_update(t)             |\ts -= t \t   |return set s after removing elements found in t|\n",
        "|s.symmetric_difference_update(t)   |\ts ^= t \t   |return set s with elements from s or t but not both|\n",
        "|s.add(x)                           |\t           |\tadd element x to set s|\n",
        "|s.remove(x)                        |\t           |\tremove x from set s|\n",
        "|s.discard(x)                       |\t           |\tremoves x from set s if present|\n",
        "|s.pop()                            | \t           |\tremove and return an arbitrary element from s|\n",
        "|s.clear()            \t            |  \t           |remove all elements from set s|\n",
        "\n",
        "Sadly, Eve's turtle passed away last week. Let's update her pet list accordingly."
      ]
    },
    {
      "cell_type": "code",
      "execution_count": null,
      "metadata": {
        "id": "-SLihNhgjy3D",
        "outputId": "4c62fa7c-5838-45d2-a558-abd8b1e605d0"
      },
      "outputs": [
        {
          "data": {
            "text/plain": [
              "{'Goldfish', 'Rabbit'}"
            ]
          },
          "execution_count": 34,
          "metadata": {},
          "output_type": "execute_result"
        }
      ],
      "source": [
        "Eve.remove(\"Turtle\")\n",
        "Eve # should be {'Rabbit', 'Goldfish'}"
      ]
    },
    {
      "cell_type": "markdown",
      "metadata": {
        "id": "rUaXuOrVjy3D"
      },
      "source": [
        "This time around, Nina promised to take care of Mary's pets while she's away. But she also wants to make sure her pets are well taken care of. As Nina is already spending a considerable amount of time taking care of her own pets, adding a few more won't make that much of a difference. Nina does want to update her list while Mary is away. "
      ]
    },
    {
      "cell_type": "code",
      "execution_count": null,
      "metadata": {
        "id": "_hDsYx7Djy3D",
        "outputId": "747e6d81-9310-42a9-d396-8cb54f60c628"
      },
      "outputs": [
        {
          "data": {
            "text/plain": [
              "{'Cat',\n",
              " 'Chicken',\n",
              " 'Chinchilla',\n",
              " 'Dog',\n",
              " 'Donkey',\n",
              " 'Goldfish',\n",
              " 'Horse',\n",
              " 'Parrot',\n",
              " 'Rabbit'}"
            ]
          },
          "execution_count": 39,
          "metadata": {},
          "output_type": "execute_result"
        }
      ],
      "source": [
        "Nina.update(Mary)\n",
        "Nina # {'Chicken', 'Horse', 'Chinchilla', 'Parrot', 'Rabbit', 'Donkey', 'Dog', 'Cat', 'Goldfish'}"
      ]
    },
    {
      "cell_type": "markdown",
      "metadata": {
        "id": "6F0so6uTjy3E"
      },
      "source": [
        "Mary, on the other hand, wants to clear her list altogether while away:"
      ]
    },
    {
      "cell_type": "code",
      "execution_count": null,
      "metadata": {
        "id": "b-09JjQfjy3E",
        "outputId": "a8293fbe-9f61-4415-ac93-8ab0fc44dee3"
      },
      "outputs": [
        {
          "data": {
            "text/plain": [
              "set()"
            ]
          },
          "execution_count": 40,
          "metadata": {},
          "output_type": "execute_result"
        }
      ],
      "source": [
        "Mary.clear()\n",
        "Mary  # set()"
      ]
    },
    {
      "cell_type": "markdown",
      "metadata": {
        "id": "Nv1jhfdyjy3E"
      },
      "source": [
        "Look at how many species Nina is taking care of right now."
      ]
    },
    {
      "cell_type": "code",
      "execution_count": null,
      "metadata": {
        "id": "UQwTPMGYjy3E",
        "outputId": "0b99ed94-c6af-4c9c-b8b8-3402e6e41e3d"
      },
      "outputs": [
        {
          "data": {
            "text/plain": [
              "9"
            ]
          },
          "execution_count": 41,
          "metadata": {},
          "output_type": "execute_result"
        }
      ],
      "source": [
        "n_species_Nina = len (Nina)\n",
        "n_species_Nina # 9"
      ]
    },
    {
      "cell_type": "markdown",
      "metadata": {
        "id": "3R9UrDDBjy3E"
      },
      "source": [
        "Taking care of this many pets is weighing heavily on Nina. She remembered Eve had a smaller collection of pets lately, and that's why she asks Eve to take care of the common species. This way, the extra pets are not a huge effort on Eve's behalf. Let's update Nina's pet collection."
      ]
    },
    {
      "cell_type": "code",
      "execution_count": null,
      "metadata": {
        "id": "IezIxLyhjy3F",
        "outputId": "c5f81e30-3147-4b70-f6e9-e59389b07bf8"
      },
      "outputs": [
        {
          "data": {
            "text/plain": [
              "7"
            ]
          },
          "execution_count": 47,
          "metadata": {},
          "output_type": "execute_result"
        }
      ],
      "source": [
        "Eve.intersection_update(Nina)\n",
        "Nina.difference_update(Eve)\n",
        "len (Nina) # 7"
      ]
    },
    {
      "cell_type": "markdown",
      "metadata": {
        "id": "EZGeDBqOjy3F"
      },
      "source": [
        "Taking care of 7 species is something Nina feels comfortable doing!"
      ]
    },
    {
      "cell_type": "markdown",
      "metadata": {
        "id": "R8fo9BaSjy3G"
      },
      "source": [
        "Preview data:"
      ]
    },
    {
      "cell_type": "markdown",
      "metadata": {
        "id": "IKG7pPRijy3M"
      },
      "source": [
        "## Summary"
      ]
    },
    {
      "cell_type": "markdown",
      "metadata": {
        "id": "FvssNVMHjy3N"
      },
      "source": [
        "In this lab, you practiced your knowledge on sets, such as common set operations, the use of Venn Diagrams, the inclusion exclusion principle, and how to use sets in Python! "
      ]
    }
  ],
  "metadata": {
    "kernelspec": {
      "display_name": "saturn (Python 3)",
      "language": "python",
      "name": "python3"
    },
    "language_info": {
      "codemirror_mode": {
        "name": "ipython",
        "version": 3
      },
      "file_extension": ".py",
      "mimetype": "text/x-python",
      "name": "python",
      "nbconvert_exporter": "python",
      "pygments_lexer": "ipython3",
      "version": "3.10.6"
    },
    "toc": {
      "base_numbering": 1,
      "nav_menu": {},
      "number_sections": true,
      "sideBar": true,
      "skip_h1_title": false,
      "title_cell": "Table of Contents",
      "title_sidebar": "Contents",
      "toc_cell": false,
      "toc_position": {},
      "toc_section_display": true,
      "toc_window_display": false
    },
    "vscode": {
      "interpreter": {
        "hash": "aee8b7b246df8f9039afb4144a1f6fd8d2ca17a180786b69acc140d282b71a49"
      }
    },
    "colab": {
      "provenance": []
    }
  },
  "nbformat": 4,
  "nbformat_minor": 0
}